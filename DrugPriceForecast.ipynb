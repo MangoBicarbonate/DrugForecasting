{
  "nbformat": 4,
  "nbformat_minor": 0,
  "metadata": {
    "colab": {
      "provenance": [],
      "authorship_tag": "ABX9TyOwqhUxTzl700/rG+bPXv96",
      "include_colab_link": true
    },
    "kernelspec": {
      "name": "python3",
      "display_name": "Python 3"
    },
    "language_info": {
      "name": "python"
    }
  },
  "cells": [
    {
      "cell_type": "markdown",
      "metadata": {
        "id": "view-in-github",
        "colab_type": "text"
      },
      "source": [
        "<a href=\"https://colab.research.google.com/github/MangoBicarbonate/SampleML/blob/main/DrugPriceForecast.ipynb\" target=\"_parent\"><img src=\"https://colab.research.google.com/assets/colab-badge.svg\" alt=\"Open In Colab\"/></a>"
      ]
    },
    {
      "cell_type": "markdown",
      "source": [
        "Import Libaries"
      ],
      "metadata": {
        "id": "Tl32AinQzOGt"
      }
    },
    {
      "cell_type": "code",
      "execution_count": null,
      "metadata": {
        "id": "abRubD6Iy7JM"
      },
      "outputs": [],
      "source": [
        "import pandas as pd\n",
        "import numpy as np\n",
        "from sklearn.linear_model import LinearRegression"
      ]
    },
    {
      "cell_type": "markdown",
      "source": [
        "what directory am I in "
      ],
      "metadata": {
        "id": "s-426P97zqAn"
      }
    },
    {
      "cell_type": "code",
      "source": [
        "!pwd"
      ],
      "metadata": {
        "colab": {
          "base_uri": "https://localhost:8080/"
        },
        "id": "mOrdjCYXzBtk",
        "outputId": "a2a7b3f3-dc04-4ce0-ddce-780e29e12aa6"
      },
      "execution_count": null,
      "outputs": [
        {
          "output_type": "stream",
          "name": "stdout",
          "text": [
            "/content\n"
          ]
        }
      ]
    },
    {
      "cell_type": "markdown",
      "source": [
        "// ChatGPT generated code explaination\n",
        "\n",
        "This line of code reads a CSV file named \"databaseOfPrices.csv\" and loads its contents into a pandas DataFrame object called \"df\".\n",
        "\n",
        "The pd.read_csv() function is a method provided by the pandas library that reads a CSV file and returns a DataFrame object containing the data. In this case, the CSV file is assumed to be located in the same directory as the Python script or Jupyter notebook where this code is being executed.\n",
        "\n",
        "After the CSV file is loaded into the DataFrame object, the .head() method is called on the DataFrame to display the first few rows of the data. This is a quick way to verify that the data was loaded correctly and to get an idea of what the data looks like."
      ],
      "metadata": {
        "id": "DcQUlcrlz0NI"
      }
    },
    {
      "cell_type": "code",
      "source": [
        "df = pd.read_csv(\"databaseOfPrices.csv\")\n",
        "df.head()"
      ],
      "metadata": {
        "colab": {
          "base_uri": "https://localhost:8080/",
          "height": 392
        },
        "id": "pRCJO4wHzvQ_",
        "outputId": "4ce1b9cf-5f3a-472a-d328-96ac65523337"
      },
      "execution_count": null,
      "outputs": [
        {
          "output_type": "execute_result",
          "data": {
            "text/plain": [
              "                      Medication_Name  Package_Size  Max_Retailer_Price  \\\n",
              "0  ABBOSYNAGIS 100MG PUL FOR INJ+SOLV           1.0         6022.540139   \n",
              "1   ABBOSYNAGIS 50MG PUL FOR INJ+SOLV           1.0         3584.941821   \n",
              "2             ABITREN 100MG 10 SR TAB          10.0           13.581967   \n",
              "3             ABITREN 100MG 20 SR TAB          20.0           27.163933   \n",
              "4                  ABITREN 25MG 20TAB          20.0            5.076567   \n",
              "\n",
              "   Max_Consumer_Price  Max_Consumer_VAT_Price  Year    Year_2007    Year_2012  \\\n",
              "0         7076.484664             8173.339786  2007  7076.484664  8137.957363   \n",
              "1         4212.306640             4865.214169  2007  4212.306640  4844.152636   \n",
              "2           18.607294               21.491425  2007    18.607294    21.398389   \n",
              "3           37.214589               42.982850  2007    37.214589    42.796777   \n",
              "4            6.954896                8.032905  2007     6.954896     7.998131   \n",
              "\n",
              "     Year_2017    Year_2022  \n",
              "0  8845.605830  9553.254296  \n",
              "1  5265.383300  5686.613964  \n",
              "2    23.259118    25.119847  \n",
              "3    46.518236    50.239695  \n",
              "4     8.693620     9.389110  "
            ],
            "text/html": [
              "\n",
              "  <div id=\"df-a89fdfe2-f052-4716-b4be-0d4463c47763\">\n",
              "    <div class=\"colab-df-container\">\n",
              "      <div>\n",
              "<style scoped>\n",
              "    .dataframe tbody tr th:only-of-type {\n",
              "        vertical-align: middle;\n",
              "    }\n",
              "\n",
              "    .dataframe tbody tr th {\n",
              "        vertical-align: top;\n",
              "    }\n",
              "\n",
              "    .dataframe thead th {\n",
              "        text-align: right;\n",
              "    }\n",
              "</style>\n",
              "<table border=\"1\" class=\"dataframe\">\n",
              "  <thead>\n",
              "    <tr style=\"text-align: right;\">\n",
              "      <th></th>\n",
              "      <th>Medication_Name</th>\n",
              "      <th>Package_Size</th>\n",
              "      <th>Max_Retailer_Price</th>\n",
              "      <th>Max_Consumer_Price</th>\n",
              "      <th>Max_Consumer_VAT_Price</th>\n",
              "      <th>Year</th>\n",
              "      <th>Year_2007</th>\n",
              "      <th>Year_2012</th>\n",
              "      <th>Year_2017</th>\n",
              "      <th>Year_2022</th>\n",
              "    </tr>\n",
              "  </thead>\n",
              "  <tbody>\n",
              "    <tr>\n",
              "      <th>0</th>\n",
              "      <td>ABBOSYNAGIS 100MG PUL FOR INJ+SOLV</td>\n",
              "      <td>1.0</td>\n",
              "      <td>6022.540139</td>\n",
              "      <td>7076.484664</td>\n",
              "      <td>8173.339786</td>\n",
              "      <td>2007</td>\n",
              "      <td>7076.484664</td>\n",
              "      <td>8137.957363</td>\n",
              "      <td>8845.605830</td>\n",
              "      <td>9553.254296</td>\n",
              "    </tr>\n",
              "    <tr>\n",
              "      <th>1</th>\n",
              "      <td>ABBOSYNAGIS 50MG PUL FOR INJ+SOLV</td>\n",
              "      <td>1.0</td>\n",
              "      <td>3584.941821</td>\n",
              "      <td>4212.306640</td>\n",
              "      <td>4865.214169</td>\n",
              "      <td>2007</td>\n",
              "      <td>4212.306640</td>\n",
              "      <td>4844.152636</td>\n",
              "      <td>5265.383300</td>\n",
              "      <td>5686.613964</td>\n",
              "    </tr>\n",
              "    <tr>\n",
              "      <th>2</th>\n",
              "      <td>ABITREN 100MG 10 SR TAB</td>\n",
              "      <td>10.0</td>\n",
              "      <td>13.581967</td>\n",
              "      <td>18.607294</td>\n",
              "      <td>21.491425</td>\n",
              "      <td>2007</td>\n",
              "      <td>18.607294</td>\n",
              "      <td>21.398389</td>\n",
              "      <td>23.259118</td>\n",
              "      <td>25.119847</td>\n",
              "    </tr>\n",
              "    <tr>\n",
              "      <th>3</th>\n",
              "      <td>ABITREN 100MG 20 SR TAB</td>\n",
              "      <td>20.0</td>\n",
              "      <td>27.163933</td>\n",
              "      <td>37.214589</td>\n",
              "      <td>42.982850</td>\n",
              "      <td>2007</td>\n",
              "      <td>37.214589</td>\n",
              "      <td>42.796777</td>\n",
              "      <td>46.518236</td>\n",
              "      <td>50.239695</td>\n",
              "    </tr>\n",
              "    <tr>\n",
              "      <th>4</th>\n",
              "      <td>ABITREN 25MG 20TAB</td>\n",
              "      <td>20.0</td>\n",
              "      <td>5.076567</td>\n",
              "      <td>6.954896</td>\n",
              "      <td>8.032905</td>\n",
              "      <td>2007</td>\n",
              "      <td>6.954896</td>\n",
              "      <td>7.998131</td>\n",
              "      <td>8.693620</td>\n",
              "      <td>9.389110</td>\n",
              "    </tr>\n",
              "  </tbody>\n",
              "</table>\n",
              "</div>\n",
              "      <button class=\"colab-df-convert\" onclick=\"convertToInteractive('df-a89fdfe2-f052-4716-b4be-0d4463c47763')\"\n",
              "              title=\"Convert this dataframe to an interactive table.\"\n",
              "              style=\"display:none;\">\n",
              "        \n",
              "  <svg xmlns=\"http://www.w3.org/2000/svg\" height=\"24px\"viewBox=\"0 0 24 24\"\n",
              "       width=\"24px\">\n",
              "    <path d=\"M0 0h24v24H0V0z\" fill=\"none\"/>\n",
              "    <path d=\"M18.56 5.44l.94 2.06.94-2.06 2.06-.94-2.06-.94-.94-2.06-.94 2.06-2.06.94zm-11 1L8.5 8.5l.94-2.06 2.06-.94-2.06-.94L8.5 2.5l-.94 2.06-2.06.94zm10 10l.94 2.06.94-2.06 2.06-.94-2.06-.94-.94-2.06-.94 2.06-2.06.94z\"/><path d=\"M17.41 7.96l-1.37-1.37c-.4-.4-.92-.59-1.43-.59-.52 0-1.04.2-1.43.59L10.3 9.45l-7.72 7.72c-.78.78-.78 2.05 0 2.83L4 21.41c.39.39.9.59 1.41.59.51 0 1.02-.2 1.41-.59l7.78-7.78 2.81-2.81c.8-.78.8-2.07 0-2.86zM5.41 20L4 18.59l7.72-7.72 1.47 1.35L5.41 20z\"/>\n",
              "  </svg>\n",
              "      </button>\n",
              "      \n",
              "  <style>\n",
              "    .colab-df-container {\n",
              "      display:flex;\n",
              "      flex-wrap:wrap;\n",
              "      gap: 12px;\n",
              "    }\n",
              "\n",
              "    .colab-df-convert {\n",
              "      background-color: #E8F0FE;\n",
              "      border: none;\n",
              "      border-radius: 50%;\n",
              "      cursor: pointer;\n",
              "      display: none;\n",
              "      fill: #1967D2;\n",
              "      height: 32px;\n",
              "      padding: 0 0 0 0;\n",
              "      width: 32px;\n",
              "    }\n",
              "\n",
              "    .colab-df-convert:hover {\n",
              "      background-color: #E2EBFA;\n",
              "      box-shadow: 0px 1px 2px rgba(60, 64, 67, 0.3), 0px 1px 3px 1px rgba(60, 64, 67, 0.15);\n",
              "      fill: #174EA6;\n",
              "    }\n",
              "\n",
              "    [theme=dark] .colab-df-convert {\n",
              "      background-color: #3B4455;\n",
              "      fill: #D2E3FC;\n",
              "    }\n",
              "\n",
              "    [theme=dark] .colab-df-convert:hover {\n",
              "      background-color: #434B5C;\n",
              "      box-shadow: 0px 1px 3px 1px rgba(0, 0, 0, 0.15);\n",
              "      filter: drop-shadow(0px 1px 2px rgba(0, 0, 0, 0.3));\n",
              "      fill: #FFFFFF;\n",
              "    }\n",
              "  </style>\n",
              "\n",
              "      <script>\n",
              "        const buttonEl =\n",
              "          document.querySelector('#df-a89fdfe2-f052-4716-b4be-0d4463c47763 button.colab-df-convert');\n",
              "        buttonEl.style.display =\n",
              "          google.colab.kernel.accessAllowed ? 'block' : 'none';\n",
              "\n",
              "        async function convertToInteractive(key) {\n",
              "          const element = document.querySelector('#df-a89fdfe2-f052-4716-b4be-0d4463c47763');\n",
              "          const dataTable =\n",
              "            await google.colab.kernel.invokeFunction('convertToInteractive',\n",
              "                                                     [key], {});\n",
              "          if (!dataTable) return;\n",
              "\n",
              "          const docLinkHtml = 'Like what you see? Visit the ' +\n",
              "            '<a target=\"_blank\" href=https://colab.research.google.com/notebooks/data_table.ipynb>data table notebook</a>'\n",
              "            + ' to learn more about interactive tables.';\n",
              "          element.innerHTML = '';\n",
              "          dataTable['output_type'] = 'display_data';\n",
              "          await google.colab.output.renderOutput(dataTable, element);\n",
              "          const docLink = document.createElement('div');\n",
              "          docLink.innerHTML = docLinkHtml;\n",
              "          element.appendChild(docLink);\n",
              "        }\n",
              "      </script>\n",
              "    </div>\n",
              "  </div>\n",
              "  "
            ]
          },
          "metadata": {},
          "execution_count": 33
        }
      ]
    },
    {
      "cell_type": "markdown",
      "source": [
        "Drug Name provided by the user. Stored in Search."
      ],
      "metadata": {
        "id": "1pL_mN9b12tU"
      }
    },
    {
      "cell_type": "code",
      "source": [
        "search = \"ABBO\""
      ],
      "metadata": {
        "id": "OAC4-3XZ1rpt"
      },
      "execution_count": null,
      "outputs": []
    },
    {
      "cell_type": "markdown",
      "source": [
        "This line of code filters the data in a pandas DataFrame called df based on a specific condition and stores the resulting subset of data in a new DataFrame called hits.\n",
        "\n",
        "The condition used to filter the data is specified as df['Medication_Name'].str.contains(search). This condition checks if the values in the 'Medication_Name' column of the df DataFrame contain a specific string, which is stored in a variable called search. The str.contains() method is a string method provided by pandas that checks if a given string is contained in another string.\n",
        "\n",
        "By applying this condition to the df DataFrame, the resulting hits DataFrame contains only the rows where the 'Medication_Name' column contains the specified string. This is a useful way to extract specific subsets of data from a larger DataFrame based on a specific criterion."
      ],
      "metadata": {
        "id": "AR9CUa-m2Dfz"
      }
    },
    {
      "cell_type": "code",
      "source": [
        "hits = df[df['Medication_Name'].str.contains(search)]"
      ],
      "metadata": {
        "id": "aqYM37Ob2CBD"
      },
      "execution_count": null,
      "outputs": []
    },
    {
      "cell_type": "markdown",
      "source": [
        "This code selects specific columns from a pandas DataFrame called hits and returns a new DataFrame containing only those columns.\n",
        "\n",
        "The specific columns selected are 'Year_2007', 'Year_2012', 'Year_2017', and 'Year_2022'. These column names are enclosed in a list and passed as an argument to the DataFrame indexing operator []. This operation returns a new DataFrame that contains only the selected columns.\n",
        "\n",
        "The resulting DataFrame is then immediately returned by the code, since the hits variable is the last expression in the code block."
      ],
      "metadata": {
        "id": "O1olUtrW26iW"
      }
    },
    {
      "cell_type": "code",
      "source": [
        "hits = hits[['Year_2007', 'Year_2012', 'Year_2017', 'Year_2022']]\n",
        "hits"
      ],
      "metadata": {
        "colab": {
          "base_uri": "https://localhost:8080/",
          "height": 112
        },
        "id": "59wD7Xqk2w0n",
        "outputId": "2b7789d3-381b-483b-d1a2-4b8477491faf"
      },
      "execution_count": null,
      "outputs": [
        {
          "output_type": "execute_result",
          "data": {
            "text/plain": [
              "     Year_2007    Year_2012   Year_2017    Year_2022\n",
              "0  7076.484664  8137.957363  8845.60583  9553.254296\n",
              "1  4212.306640  4844.152636  5265.38330  5686.613964"
            ],
            "text/html": [
              "\n",
              "  <div id=\"df-5ade7407-a7f3-46c5-a17a-b2df8e2fbb88\">\n",
              "    <div class=\"colab-df-container\">\n",
              "      <div>\n",
              "<style scoped>\n",
              "    .dataframe tbody tr th:only-of-type {\n",
              "        vertical-align: middle;\n",
              "    }\n",
              "\n",
              "    .dataframe tbody tr th {\n",
              "        vertical-align: top;\n",
              "    }\n",
              "\n",
              "    .dataframe thead th {\n",
              "        text-align: right;\n",
              "    }\n",
              "</style>\n",
              "<table border=\"1\" class=\"dataframe\">\n",
              "  <thead>\n",
              "    <tr style=\"text-align: right;\">\n",
              "      <th></th>\n",
              "      <th>Year_2007</th>\n",
              "      <th>Year_2012</th>\n",
              "      <th>Year_2017</th>\n",
              "      <th>Year_2022</th>\n",
              "    </tr>\n",
              "  </thead>\n",
              "  <tbody>\n",
              "    <tr>\n",
              "      <th>0</th>\n",
              "      <td>7076.484664</td>\n",
              "      <td>8137.957363</td>\n",
              "      <td>8845.60583</td>\n",
              "      <td>9553.254296</td>\n",
              "    </tr>\n",
              "    <tr>\n",
              "      <th>1</th>\n",
              "      <td>4212.306640</td>\n",
              "      <td>4844.152636</td>\n",
              "      <td>5265.38330</td>\n",
              "      <td>5686.613964</td>\n",
              "    </tr>\n",
              "  </tbody>\n",
              "</table>\n",
              "</div>\n",
              "      <button class=\"colab-df-convert\" onclick=\"convertToInteractive('df-5ade7407-a7f3-46c5-a17a-b2df8e2fbb88')\"\n",
              "              title=\"Convert this dataframe to an interactive table.\"\n",
              "              style=\"display:none;\">\n",
              "        \n",
              "  <svg xmlns=\"http://www.w3.org/2000/svg\" height=\"24px\"viewBox=\"0 0 24 24\"\n",
              "       width=\"24px\">\n",
              "    <path d=\"M0 0h24v24H0V0z\" fill=\"none\"/>\n",
              "    <path d=\"M18.56 5.44l.94 2.06.94-2.06 2.06-.94-2.06-.94-.94-2.06-.94 2.06-2.06.94zm-11 1L8.5 8.5l.94-2.06 2.06-.94-2.06-.94L8.5 2.5l-.94 2.06-2.06.94zm10 10l.94 2.06.94-2.06 2.06-.94-2.06-.94-.94-2.06-.94 2.06-2.06.94z\"/><path d=\"M17.41 7.96l-1.37-1.37c-.4-.4-.92-.59-1.43-.59-.52 0-1.04.2-1.43.59L10.3 9.45l-7.72 7.72c-.78.78-.78 2.05 0 2.83L4 21.41c.39.39.9.59 1.41.59.51 0 1.02-.2 1.41-.59l7.78-7.78 2.81-2.81c.8-.78.8-2.07 0-2.86zM5.41 20L4 18.59l7.72-7.72 1.47 1.35L5.41 20z\"/>\n",
              "  </svg>\n",
              "      </button>\n",
              "      \n",
              "  <style>\n",
              "    .colab-df-container {\n",
              "      display:flex;\n",
              "      flex-wrap:wrap;\n",
              "      gap: 12px;\n",
              "    }\n",
              "\n",
              "    .colab-df-convert {\n",
              "      background-color: #E8F0FE;\n",
              "      border: none;\n",
              "      border-radius: 50%;\n",
              "      cursor: pointer;\n",
              "      display: none;\n",
              "      fill: #1967D2;\n",
              "      height: 32px;\n",
              "      padding: 0 0 0 0;\n",
              "      width: 32px;\n",
              "    }\n",
              "\n",
              "    .colab-df-convert:hover {\n",
              "      background-color: #E2EBFA;\n",
              "      box-shadow: 0px 1px 2px rgba(60, 64, 67, 0.3), 0px 1px 3px 1px rgba(60, 64, 67, 0.15);\n",
              "      fill: #174EA6;\n",
              "    }\n",
              "\n",
              "    [theme=dark] .colab-df-convert {\n",
              "      background-color: #3B4455;\n",
              "      fill: #D2E3FC;\n",
              "    }\n",
              "\n",
              "    [theme=dark] .colab-df-convert:hover {\n",
              "      background-color: #434B5C;\n",
              "      box-shadow: 0px 1px 3px 1px rgba(0, 0, 0, 0.15);\n",
              "      filter: drop-shadow(0px 1px 2px rgba(0, 0, 0, 0.3));\n",
              "      fill: #FFFFFF;\n",
              "    }\n",
              "  </style>\n",
              "\n",
              "      <script>\n",
              "        const buttonEl =\n",
              "          document.querySelector('#df-5ade7407-a7f3-46c5-a17a-b2df8e2fbb88 button.colab-df-convert');\n",
              "        buttonEl.style.display =\n",
              "          google.colab.kernel.accessAllowed ? 'block' : 'none';\n",
              "\n",
              "        async function convertToInteractive(key) {\n",
              "          const element = document.querySelector('#df-5ade7407-a7f3-46c5-a17a-b2df8e2fbb88');\n",
              "          const dataTable =\n",
              "            await google.colab.kernel.invokeFunction('convertToInteractive',\n",
              "                                                     [key], {});\n",
              "          if (!dataTable) return;\n",
              "\n",
              "          const docLinkHtml = 'Like what you see? Visit the ' +\n",
              "            '<a target=\"_blank\" href=https://colab.research.google.com/notebooks/data_table.ipynb>data table notebook</a>'\n",
              "            + ' to learn more about interactive tables.';\n",
              "          element.innerHTML = '';\n",
              "          dataTable['output_type'] = 'display_data';\n",
              "          await google.colab.output.renderOutput(dataTable, element);\n",
              "          const docLink = document.createElement('div');\n",
              "          docLink.innerHTML = docLinkHtml;\n",
              "          element.appendChild(docLink);\n",
              "        }\n",
              "      </script>\n",
              "    </div>\n",
              "  </div>\n",
              "  "
            ]
          },
          "metadata": {},
          "execution_count": 36
        }
      ]
    },
    {
      "cell_type": "markdown",
      "source": [
        "looks like a general increase for all the drug prices. The resulting model should be linear."
      ],
      "metadata": {
        "id": "gRg7xapI9a7j"
      }
    },
    {
      "cell_type": "markdown",
      "source": [
        "This code extracts the first row of a pandas DataFrame called hits, converts it to a dictionary format, and stores the resulting dictionary in a variable called m.\n",
        "\n",
        "The hits.head(1) method returns the first row of the hits DataFrame as a new DataFrame object. The resulting DataFrame has only one row and the same columns as the original DataFrame. The to_dict() method is then called on this new DataFrame, which converts it to a dictionary format where the column names are keys and the row values are the corresponding values in the dictionary.\n",
        "\n",
        "The resulting dictionary is then stored in a variable called m and returned as the output of the code block. This means that the code will display the resulting dictionary in the output or console."
      ],
      "metadata": {
        "id": "wzyG6MHS3cAY"
      }
    },
    {
      "cell_type": "code",
      "source": [
        "m = hits.head(1).to_dict()\n",
        "m"
      ],
      "metadata": {
        "colab": {
          "base_uri": "https://localhost:8080/"
        },
        "id": "Lpe1XmmU3GzR",
        "outputId": "7f9558e7-a7e1-4ad0-83dd-33f7d7e8dc82"
      },
      "execution_count": null,
      "outputs": [
        {
          "output_type": "execute_result",
          "data": {
            "text/plain": [
              "{'Year_2007': {0: 7076.484664},\n",
              " 'Year_2012': {0: 8137.957363},\n",
              " 'Year_2017': {0: 8845.60583},\n",
              " 'Year_2022': {0: 9553.254296}}"
            ]
          },
          "metadata": {},
          "execution_count": 37
        }
      ]
    },
    {
      "cell_type": "markdown",
      "source": [
        "This code loops through the items in a dictionary called m['Year_2007'] and prints the first key-value pair it encounters, as well as storing the key in a variable called code.\n",
        "\n",
        "The for loop iterates through the items in the m['Year_2007'] dictionary using the items() method, which returns a list of key-value pairs as tuples. For each key-value pair, the code assigns the key to the code variable and prints both the key and the value to the console using the print() function. The break statement is used to exit the loop after the first iteration, so that only the first key-value pair is printed."
      ],
      "metadata": {
        "id": "yhCTtbi43eND"
      }
    },
    {
      "cell_type": "code",
      "source": [
        "code = None\n",
        "for key,value in m['Year_2007'].items():\n",
        "    code = key\n",
        "    print(key, value)\n",
        "    break   "
      ],
      "metadata": {
        "colab": {
          "base_uri": "https://localhost:8080/"
        },
        "id": "GmuJefNF3dGe",
        "outputId": "77d9fc54-b3db-40d7-a93f-49984c5fa299"
      },
      "execution_count": null,
      "outputs": [
        {
          "output_type": "stream",
          "name": "stdout",
          "text": [
            "0 7076.484664\n"
          ]
        }
      ]
    },
    {
      "cell_type": "markdown",
      "source": [
        "This code creates two NumPy arrays X and y, where X contains a sequence of years and y contains a sequence of values corresponding to the specific key code in the m dictionary for each year.\n",
        "\n",
        "The np.array() method is used to create NumPy arrays from Python lists. In this case, X is created using a list of years [2007, 2012, 2017, 2022]. The y array is created using a list comprehension that extracts the values corresponding to the code key from the m dictionary for each year.\n",
        "\n",
        "The resulting X and y arrays are returned by the code and displayed in the output or console. The X array contains a sequence of years, which can be used as input to a machine learning model. The y array contains the corresponding values for the specific key code, which can be used as the target variable in a machine learning model."
      ],
      "metadata": {
        "id": "yyTa9vrL5bEC"
      }
    },
    {
      "cell_type": "code",
      "source": [
        "X = np.array([2007, 2012, 2017, 2022])\n",
        "y = np.array([m['Year_2007'][code], m['Year_2012'][code], m['Year_2017'][code], m['Year_2022'][code]])\n",
        "y"
      ],
      "metadata": {
        "colab": {
          "base_uri": "https://localhost:8080/"
        },
        "id": "CDnCJplj5Jey",
        "outputId": "dca93deb-968c-4380-ff77-105a86e5057c"
      },
      "execution_count": null,
      "outputs": [
        {
          "output_type": "execute_result",
          "data": {
            "text/plain": [
              "array([7076.484664, 8137.957363, 8845.60583 , 9553.254296])"
            ]
          },
          "metadata": {},
          "execution_count": 39
        }
      ]
    },
    {
      "cell_type": "markdown",
      "source": [
        "This code trains a linear regression model using the LinearRegression() class from the scikit-learn library, predicts the output for a new input, and prints the predicted output to the console.\n",
        "\n",
        "The code first initializes a LinearRegression() object called regressor. This object represents the linear regression model that will be trained on the data.\n",
        "\n",
        "Next, the code trains the model on some sample data X and y using the fit() method of the regressor object. The fit() method takes two arguments: the input data X and the target variable y. The reshape() method is used to reshape the data into a format that is compatible with scikit-learn, which requires a two-dimensional array as input.\n",
        "\n",
        "After training the model, the code creates a new input new_X using the np.array() method. This input contains a sequence of years that are not included in the original sample data.\n",
        "\n",
        "The code then uses the predict() method of the regressor object to predict the output for the new input. The predicted output is stored in a variable called predicted_y.\n",
        "\n",
        "Finally, the code prints the predicted output to the console using the print() function.\n",
        "\n",
        "Overall, this code is a common way to train a linear regression model, predict the output for new inputs, and print the results to the console. This can be useful when working with data that has a linear relationship between the input variables and the target variable, such as predicting the price of a house based on its size or location."
      ],
      "metadata": {
        "id": "bGZAVGL76l-b"
      }
    },
    {
      "cell_type": "code",
      "source": [
        "# Create some sample data\n",
        "\n",
        "# Initialize the linear regression model\n",
        "regressor = LinearRegression()\n",
        "\n",
        "# Train the model on the data\n",
        "regressor.fit(X.reshape(-1,1), y.reshape(-1,1))\n",
        "\n",
        "# Predict the output for a new input\n",
        "new_X = np.array([[2023,2024,2025,2026,2027]])\n",
        "predicted_y = regressor.predict(new_X.reshape(-1,1))\n",
        "\n",
        "# Print the predicted output\n",
        "print(predicted_y)"
      ],
      "metadata": {
        "colab": {
          "base_uri": "https://localhost:8080/"
        },
        "id": "XTMUUCkn5b2T",
        "outputId": "826faf75-3942-4851-d8db-af394e706e00"
      },
      "execution_count": null,
      "outputs": [
        {
          "output_type": "stream",
          "name": "stdout",
          "text": [
            "[[ 9786.77828996]\n",
            " [ 9949.53743722]\n",
            " [10112.29658448]\n",
            " [10275.05573174]\n",
            " [10437.814879  ]]\n"
          ]
        }
      ]
    },
    {
      "cell_type": "markdown",
      "source": [
        "This code converts the predicted output from a two-dimensional NumPy array to a one-dimensional NumPy array using the flatten() method, and stores the resulting array in a variable called forecasted_prices.\n",
        "\n",
        "The predicted_y variable contains the predicted output from a linear regression model for a new input, as calculated in the previous code block. This output is stored as a two-dimensional NumPy array, where each row represents a separate prediction.\n",
        "\n",
        "The flatten() method is used to convert this two-dimensional array into a one-dimensional array by combining all the rows into a single sequence of values. This is done to simplify the array format and make it easier to work with.\n",
        "\n",
        "The resulting one-dimensional array is then stored in a variable called forecasted_prices and returned by the code. The array contains the predicted prices for the new input, based on the linear regression model that was trained on the sample data."
      ],
      "metadata": {
        "id": "CgbWqGKQ7sCr"
      }
    },
    {
      "cell_type": "code",
      "source": [
        "forecasted_prices = predicted_y.flatten()\n",
        "forecasted_prices"
      ],
      "metadata": {
        "colab": {
          "base_uri": "https://localhost:8080/"
        },
        "id": "vyrQm40G7LLs",
        "outputId": "65e18f2c-f8b9-42e3-c31f-e8c3f9ec6332"
      },
      "execution_count": null,
      "outputs": [
        {
          "output_type": "execute_result",
          "data": {
            "text/plain": [
              "array([ 9786.77828996,  9949.53743722, 10112.29658448, 10275.05573174,\n",
              "       10437.814879  ])"
            ]
          },
          "metadata": {},
          "execution_count": 41
        }
      ]
    },
    {
      "cell_type": "markdown",
      "source": [
        "This code creates a list of years and appends five additional years to the list using a for loop.\n",
        "\n",
        "The initial list of years is specified as [2007,2012,2017,2022]. This list contains four years that were used as input data for a machine learning model in a previous code block.\n",
        "\n",
        "The for loop iterates over a range of years from 2023 to 2027 (inclusive) using the range() function. For each year in the range, the code appends the year to the years list using the append() method.\n",
        "\n",
        "After the loop completes, the resulting years list contains the original four years, as well as the additional five years that were appended in the loop.\n",
        "\n"
      ],
      "metadata": {
        "id": "k6GrOhVx7-sA"
      }
    },
    {
      "cell_type": "code",
      "source": [
        "years = [2007,2012,2017,2022]\n",
        "for year in range(2023, 2028):\n",
        "    years.append(year)\n",
        "years"
      ],
      "metadata": {
        "colab": {
          "base_uri": "https://localhost:8080/"
        },
        "id": "MVeYn4sV76ju",
        "outputId": "8ac8dce8-d748-40ae-ce42-64e12d7cd69b"
      },
      "execution_count": null,
      "outputs": [
        {
          "output_type": "execute_result",
          "data": {
            "text/plain": [
              "[2007, 2012, 2017, 2022, 2023, 2024, 2025, 2026, 2027]"
            ]
          },
          "metadata": {},
          "execution_count": 42
        }
      ]
    },
    {
      "cell_type": "markdown",
      "source": [
        "This code creates a list of prices for a specific key, and appends additional prices to the list using a for loop.\n",
        "\n",
        "The initial list of prices is specified as [m['Year_2007'][code], m['Year_2012'][code], m['Year_2017'][code], m['Year_2022'][code]]. This list contains the actual prices for the years 2007, 2012, 2017, and 2022, corresponding to the specific key identified by code.\n",
        "\n",
        "The for loop iterates over a sequence of forecasted prices using the forecasted_prices variable from a previous code block. For each price in the sequence, the code appends the price to the prices list using the append() method.\n",
        "\n",
        "After the loop completes, the resulting prices list contains the original four prices, as well as the additional forecasted prices for the next five years."
      ],
      "metadata": {
        "id": "o2xlySDW8SJf"
      }
    },
    {
      "cell_type": "code",
      "source": [
        "prices = [m['Year_2007'][code], m['Year_2012'][code], m['Year_2017'][code], m['Year_2022'][code]]\n",
        "for price in forecasted_prices:\n",
        "    prices.append(price)\n",
        "prices"
      ],
      "metadata": {
        "colab": {
          "base_uri": "https://localhost:8080/"
        },
        "id": "dgCub6yo8PCQ",
        "outputId": "17602d31-bfcf-4ee6-910b-7db78273d9ab"
      },
      "execution_count": null,
      "outputs": [
        {
          "output_type": "execute_result",
          "data": {
            "text/plain": [
              "[7076.484664,\n",
              " 8137.957363,\n",
              " 8845.60583,\n",
              " 9553.254296,\n",
              " 9786.77828995994,\n",
              " 9949.53743721993,\n",
              " 10112.296584479976,\n",
              " 10275.055731739965,\n",
              " 10437.814878999954]"
            ]
          },
          "metadata": {},
          "execution_count": 43
        }
      ]
    },
    {
      "cell_type": "markdown",
      "source": [
        "This code creates a new pandas DataFrame called df_display with two columns: 'Years' and 'Price Forecast'. The 'Years' column contains a sequence of years, and the 'Price Forecast' column contains a corresponding sequence of prices.\n",
        "\n",
        "The first line of code creates an empty DataFrame object called df_display using the pd.DataFrame() function from pandas.\n",
        "\n",
        "The next two lines of code create two new columns in the df_display DataFrame called 'Years' and 'Price Forecast', respectively. The 'Years' column is initialized with the years list from a previous code block, and the 'Price Forecast' column is initialized with the prices list from a previous code block.\n",
        "\n",
        "The resulting df_display DataFrame has two columns and multiple rows, with each row representing a specific year and the corresponding forecasted price. This DataFrame can be used to visualize or further analyze the price forecast data in a tabular format."
      ],
      "metadata": {
        "id": "k2UR6Q6R82gT"
      }
    },
    {
      "cell_type": "code",
      "source": [
        "df_display = pd.DataFrame()\n",
        "df_display['Years'] = years\n",
        "df_display['Price Forecast'] = prices"
      ],
      "metadata": {
        "id": "7jVvAB298az6"
      },
      "execution_count": null,
      "outputs": []
    },
    {
      "cell_type": "markdown",
      "source": [
        "This code uses the seaborn and matplotlib libraries to create a scatter plot with a linear regression line that visualizes the relationship between the 'Years' and 'Price Forecast' columns in a pandas DataFrame called df_display.\n",
        "\n",
        "The %matplotlib inline magic command is used to display the resulting plot within the output or console of the Jupyter notebook or Python environment.\n",
        "\n",
        "The import statements import the necessary libraries to create the plot. The seaborn library provides a high-level interface for creating statistical graphics, and the matplotlib.pyplot library provides a low-level interface for creating various types of plots.\n",
        "\n",
        "The sns.lmplot() function is used to create a scatter plot with a linear regression line. The x and y arguments specify the 'Years' and 'Price Forecast' columns from the df_display DataFrame, respectively. The data argument specifies the DataFrame to use as input data, and the fit_reg argument specifies whether to display the linear regression line.\n",
        "\n",
        "The plt.xticks() function is used to rotate the x-axis labels by 45 degrees, making them easier to read. The plt.show() function is then used to display the resulting plot in the output or console."
      ],
      "metadata": {
        "id": "yZ3-nJXK9SFi"
      }
    },
    {
      "cell_type": "code",
      "source": [
        "%matplotlib inline\n",
        "import seaborn as sns\n",
        "import matplotlib.pyplot as plt\n",
        "\n",
        "sns.lmplot(x='Years',y='Price Forecast',data=df_display,fit_reg=True);\n",
        "plt.xticks(rotation=45)\n",
        "plt.show()"
      ],
      "metadata": {
        "colab": {
          "base_uri": "https://localhost:8080/",
          "height": 391
        },
        "id": "6lenpxMC859q",
        "outputId": "dff060f1-050a-4bc8-95e0-185314ac2d7e"
      },
      "execution_count": null,
      "outputs": [
        {
          "output_type": "display_data",
          "data": {
            "text/plain": [
              "<Figure size 360x360 with 1 Axes>"
            ],
            "image/png": "[encoded data removed]"
          },
          "metadata": {
            "needs_background": "light"
          }
        }
      ]
    }
  ]
}